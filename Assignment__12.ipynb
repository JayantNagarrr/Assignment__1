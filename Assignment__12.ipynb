{
 "cells": [
  {
   "cell_type": "markdown",
   "id": "4b3fb233",
   "metadata": {},
   "source": [
    "1. In what modes should the PdfFileReader() and PdfFileWriter() File objects will be opened?\n",
    "\n",
    "Answer: These files will be opened in binary mode., read binary (rb) for PdfFileREader() and write binary (wb) PdfFileWriter()"
   ]
  },
  {
   "cell_type": "markdown",
   "id": "5cced3f9",
   "metadata": {},
   "source": [
    "2. From a PdfFileReader object, how do you get a Page object for page 5?\n",
    "\n",
    "Answer: Calling getPage(4) will return a Page object for page 5 since page 0 is the first page."
   ]
  },
  {
   "cell_type": "markdown",
   "id": "41b7b212",
   "metadata": {},
   "source": [
    "3. What PdfFileReader variable stores the number of pages in the PDF document?\n",
    "\n",
    "Answer: The PdfFileReader.numPages variable stores an integer of the number of pages in the PdfFileReader object"
   ]
  },
  {
   "cell_type": "markdown",
   "id": "d7efc80d",
   "metadata": {},
   "source": [
    "4. If a PdfFileReader object’s PDF is encrypted with the password swordfish, what must you do before you can obtain Page objects from it?\n",
    "\n",
    "Answer: before we obtain the page object, the pdf has to be decrypted by calling .decrypt('swordfish')"
   ]
  },
  {
   "cell_type": "markdown",
   "id": "7677604d",
   "metadata": {},
   "source": [
    "5. What methods do you use to rotate a page?\n",
    "\n",
    "Answer: The rotateClockwise() and rotateCounterClockwise() methods. The degrees to rotate is passed as an integer argument."
   ]
  },
  {
   "cell_type": "markdown",
   "id": "1c964145",
   "metadata": {},
   "source": [
    "6. What is the difference between a Run object and a Paragraph object?\n",
    "\n",
    "Answer: Run objects:\n",
    "Runs are contiguous groups of characters within a paragraph with the same style.\n",
    "\n",
    "Paragraph objects:\n",
    "A document contains multiple paragraphs. A paragraphs begins on a new line and contains multiple runs."
   ]
  },
  {
   "cell_type": "markdown",
   "id": "b44e04dc",
   "metadata": {},
   "source": [
    "7. How do you obtain a list of Paragraph objects for a Document object that’s stored in a variable named doc?\n",
    "\n",
    "Answer: By using doc.paragraphs"
   ]
  },
  {
   "cell_type": "markdown",
   "id": "f469ef34",
   "metadata": {},
   "source": [
    "8. What type of object has bold, underline, italic, strike, and outline variables?\n",
    "\n",
    "Answer: A run object has bold , underline , italic and outline variables."
   ]
  },
  {
   "cell_type": "markdown",
   "id": "541cfeca",
   "metadata": {},
   "source": [
    "9. What is the difference between False, True, and None for the bold variable?\n",
    "\n",
    "Answer: Run can be further styled using text attributes. Each attribute can be set to one of three variables:\n",
    "True : The attribute is always enabled, no matter what other styles are applied to the run.\n",
    "False : The attribute is always disabled.\n",
    "None : defaults to whatever the run's style is to."
   ]
  },
  {
   "cell_type": "markdown",
   "id": "08b1a97a",
   "metadata": {},
   "source": [
    "10. How do you create a Document object for a new Word document?\n",
    "\n",
    "Answer: By calling the docx.Document() function."
   ]
  },
  {
   "cell_type": "markdown",
   "id": "f6dd344f",
   "metadata": {},
   "source": [
    "11. How do you add a paragraph with the text \"Hello, there!\" to a Document object stored in a variable named doc?\n",
    "\n",
    "Answer: \n",
    "import docx\n",
    "doc = docx.Document()\n",
    "\n",
    "doc.add_paragraph('Hello there!')\n",
    "doc.save('hellothere.docx')\n"
   ]
  },
  {
   "cell_type": "markdown",
   "id": "6cad635a",
   "metadata": {},
   "source": [
    "12. What integers represent the levels of headings available in Word documents?\n",
    "\n",
    "Answer: Integer from 0 to 4\n",
    "The integer 0 makes the heading the Title style.\n",
    "The integers 1 to 4 are for verious heading levels , with 1 being the main heading and 4 the lowest sub-heading."
   ]
  }
 ],
 "metadata": {
  "kernelspec": {
   "display_name": "Python 3 (ipykernel)",
   "language": "python",
   "name": "python3"
  },
  "language_info": {
   "codemirror_mode": {
    "name": "ipython",
    "version": 3
   },
   "file_extension": ".py",
   "mimetype": "text/x-python",
   "name": "python",
   "nbconvert_exporter": "python",
   "pygments_lexer": "ipython3",
   "version": "3.10.6"
  }
 },
 "nbformat": 4,
 "nbformat_minor": 5
}
