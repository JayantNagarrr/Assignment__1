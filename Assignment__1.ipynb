{
 "cells": [
  {
   "cell_type": "markdown",
   "id": "7807e7cb",
   "metadata": {},
   "source": [
    "Question 1.\n",
    "In the below elements which of them are values or an expression? eg:- values can be\n",
    "integer or string and expressions will be mathematical operators.\n",
    "*\n",
    "\"hello\"\n",
    "-87.8\n",
    "-\n",
    "/\n",
    "+\n",
    "6\n",
    "\n",
    "Answer 1.\n",
    "From the above options , values are as follows:\n",
    "\n",
    "1. \"hello\"\n",
    "2. -87.8\n",
    "3. 6\n",
    "\n",
    "And expressions are: \n",
    "\n",
    "1. *\n",
    "2. -\n",
    "3. /\n",
    "4. +"
   ]
  },
  {
   "cell_type": "markdown",
   "id": "f74301bc",
   "metadata": {},
   "source": [
    "Question 2.\n",
    "What is the difference between string and a variable ?\n",
    "\n",
    "Answer 2.\n",
    "STRING : A string can be anything enclosed within inverted commas (\"\"). A string can be a value that we can assign to a variable.\n",
    "Example:\n",
    "a = \"Hello_World\"\n",
    "b = \"885522\"\n",
    "\n",
    "VARIABLE: A variable can be anything refering a value. it can be anything having a fixed value.\n",
    "Example:\n",
    "x = 2000\n",
    "y = 900"
   ]
  },
  {
   "cell_type": "markdown",
   "id": "26b21c2a",
   "metadata": {},
   "source": [
    "Question 3.\n",
    "Descibe three different data types ?\n",
    "\n",
    "Answer 3.\n",
    "\n",
    "1. List:\n",
    "A list is closed is a square[] brackets. Within these square we can add any string , integer and it will be called as a list.We can check the length by len(), we can add a value at the end of list by mylist.append(), we can add a value between a list by using mylist.insert().And if we want to reverse the list we can do it by applying mylist.reverse().\n",
    "\n",
    "2. Dictonary: \n",
    "A dictonary is enclosed in curly{} brackets. In dictonary we can assign any value to the index numbers.We can change the values inside a dictonary.\n",
    "\n",
    "3. Tuple:\n",
    "A tuple is enclosed in round brackets and we cannot change a tuple.We can count anything inside a tuple using tuple.count(\"anything\")"
   ]
  },
  {
   "cell_type": "markdown",
   "id": "bb66e6d8",
   "metadata": {},
   "source": [
    "Question 4.\n",
    "What is an expression made up of ? What do all expressions do ?\n",
    "\n",
    "Answer 4.\n",
    "It is a combination of operators which perform a particular task.\n",
    "Suppose we are given 2 numbers and asked to multiply those numbers, then the same can be done with the help of writing an expression.\n",
    "Example.\n",
    "x = 20\n",
    "y = 20\n",
    "m = x*y #an expression\n",
    "print(m) "
   ]
  },
  {
   "cell_type": "markdown",
   "id": "c9c8e579",
   "metadata": {},
   "source": [
    "Question 5.\n",
    "This assignment statements, like spam = 10. What is the difference between an\n",
    "expression and a statement?\n",
    "\n",
    "Answer 5.\n",
    "The difference between an expression and a statement is that an expression help us to perform a particular task like addition , multiplication, whereas a statement is like assigening a value to something. like it's given spam = 10 , it's a statement. \n",
    "But s = spam + 100\n",
    "It's an expression."
   ]
  },
  {
   "cell_type": "markdown",
   "id": "f2cf4755",
   "metadata": {},
   "source": [
    "Question 6.\n",
    "After running the following code, what does the variable bacon contain?\n",
    "bacon = 22\n",
    "bacon + 1\n",
    "\n",
    "Answer 6.\n",
    "23"
   ]
  },
  {
   "cell_type": "markdown",
   "id": "ca1398b2",
   "metadata": {},
   "source": [
    "Question 7.\n",
    "What should the values of the following two terms be?\n",
    "\"spam\" + \"spamspam\"\n",
    "\"spam\" * 3\n",
    "\n",
    "Answer 7.\n",
    "spamspamspam\n",
    "spamspamspam"
   ]
  },
  {
   "cell_type": "markdown",
   "id": "e4589465",
   "metadata": {},
   "source": [
    "Question 8.\n",
    "Why is eggs a valid variable name while 100 is invalid?\n",
    "\n",
    "Answer 8.\n",
    "A numeric or int value cannot be a variable, but a string can be a variable. "
   ]
  },
  {
   "cell_type": "markdown",
   "id": "9b613baa",
   "metadata": {},
   "source": [
    "Question 9.\n",
    "What three functions can be used to get the integer, floating-point number, or string version of a value?\n",
    "\n",
    "Answer 9.\n",
    "Three functions which can be used to get a string,floating point numner and interge version of a value are:\n",
    "int()\n",
    "str()\n",
    "float()"
   ]
  },
  {
   "cell_type": "markdown",
   "id": "41fa1fda",
   "metadata": {},
   "source": [
    "Question 10.\n",
    "Why does this expression cause an error? How can you fix it?\n",
    "\"I have eaten \" + 99 + \" burritos.\"\n",
    "\n",
    "Answer 10.\n",
    "Error is caused because we can add string with string only.\n",
    "If we want to fix it then we have to convert 99 into a string.\n",
    "Correct expression will be:\n",
    "\"\"I have eaten \" + \"99\" + \" burritos.\""
   ]
  }
 ],
 "metadata": {
  "kernelspec": {
   "display_name": "Python 3 (ipykernel)",
   "language": "python",
   "name": "python3"
  },
  "language_info": {
   "codemirror_mode": {
    "name": "ipython",
    "version": 3
   },
   "file_extension": ".py",
   "mimetype": "text/x-python",
   "name": "python",
   "nbconvert_exporter": "python",
   "pygments_lexer": "ipython3",
   "version": "3.10.6"
  }
 },
 "nbformat": 4,
 "nbformat_minor": 5
}
