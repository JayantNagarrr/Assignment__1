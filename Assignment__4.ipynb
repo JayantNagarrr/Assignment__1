{
 "cells": [
  {
   "cell_type": "markdown",
   "id": "fcbae57b",
   "metadata": {},
   "source": [
    "1. What exactly is []?\n",
    "\n",
    "Answer: The empty list value, which is a list value that contain no items. this is similar to how '' is the empty string value."
   ]
  },
  {
   "cell_type": "markdown",
   "id": "8c40bb36",
   "metadata": {},
   "source": [
    "2. In a list of values stored in a variable called spam, how would you assign the value '\"hello\" as the third value? (Assume [2, 4, 6, 8, 10] are in spam.)\n",
    "Let's pretend the spam includes the list [\"a\", \"b\", \"c\", \"d\"] for the next three queries.\n",
    "3. What is the value of spam[int(\"3\" * 2) / 11)]?\n",
    "Answer: d\n",
    "4. What is the value of spam[-1]?\n",
    "Answer: ' d '\n",
    "5. What is the value of spam[:2]?\n",
    "Answer: ['a','b']"
   ]
  },
  {
   "cell_type": "markdown",
   "id": "5a1eda20",
   "metadata": {},
   "source": [
    "Let's pretend bacon has the list [3.14,'cat', 11, 'cat', True] for the next three questions.\n",
    "6. What is the value of bacon.index('cat')?\n",
    "Answer: 1\n",
    "7. How does bacon.append(99) change the look of the list value in bacon?\n",
    "Answer: [3.14 , 'cat' , 11 , ''cat , True , 99 ]\n",
    "8. How does bacon.remove('cat') change the look of the list in bacon?\n",
    "Answer: [3.14 , 11 , 'cat' , True]"
   ]
  },
  {
   "cell_type": "markdown",
   "id": "eb908602",
   "metadata": {},
   "source": [
    "9. What are the list concatenation and list replication operators?\n",
    "\n",
    "Answer: The operator for list concatenation is ' + ' while the operator for list replication is *."
   ]
  },
  {
   "cell_type": "markdown",
   "id": "94f053e7",
   "metadata": {},
   "source": [
    "10. What is difference between the list methods append() and insert()?\n",
    "\n",
    "Answer: append() will add values only to the end of a list while insert() can add them anywhere in the list."
   ]
  },
  {
   "cell_type": "markdown",
   "id": "0a763a47",
   "metadata": {},
   "source": [
    "11. What are the two methods for removing items from a list?\n",
    "\n",
    "Answer: The two methods for removing items from a list are del statement and the remove() list method."
   ]
  },
  {
   "cell_type": "markdown",
   "id": "8291b8ff",
   "metadata": {},
   "source": [
    "12. Describe how list values and string values are identical.\n",
    "\n",
    "Answer: The list values and string values are identical in the following ways;\n",
    "(a). Both lists and strings can be passed to len().\n",
    "(b). Both have indexes and slices.\n",
    "(c). Both can be used in for loops.\n",
    "(d). Both can be concatenated or replicated."
   ]
  },
  {
   "cell_type": "markdown",
   "id": "05a320a5",
   "metadata": {},
   "source": [
    "13. What's the difference between tuples and lists?\n",
    "\n",
    "Answer: Lists are mutable i.e., they can have values added, removed, or changed. Tuples are immutable, they cannot be changed at all. Also, tuples are written using parentheses, (and), while lists use the square brackets, [and]."
   ]
  },
  {
   "cell_type": "markdown",
   "id": "e15833ea",
   "metadata": {},
   "source": [
    "14. How do you type a tuple value that only contains the integer 42?\n",
    "\n",
    "Answer: (42,)"
   ]
  },
  {
   "cell_type": "markdown",
   "id": "2620d99a",
   "metadata": {},
   "source": [
    "15. How do you get a list value's tuple form? How do you get a tuple value's list form?\n",
    "\n",
    "Answer: With the help of tuple() and list() functions."
   ]
  },
  {
   "cell_type": "markdown",
   "id": "c053da0a",
   "metadata": {},
   "source": [
    "16. Variables that \"contain\" list values are not necessarily lists themselves. Instead, what do they contain?\n",
    "\n",
    "Answer: They contain references to list values."
   ]
  },
  {
   "cell_type": "markdown",
   "id": "ee400bc5",
   "metadata": {},
   "source": [
    "17. How do you distinguish between copy.copy() and copy.deepcopy()?\n",
    "\n",
    "Answer: The copy.copy() function will do a shallow copy of a list while the copy.deepcopy() function will do a deep copy of a list."
   ]
  }
 ],
 "metadata": {
  "kernelspec": {
   "display_name": "Python 3 (ipykernel)",
   "language": "python",
   "name": "python3"
  },
  "language_info": {
   "codemirror_mode": {
    "name": "ipython",
    "version": 3
   },
   "file_extension": ".py",
   "mimetype": "text/x-python",
   "name": "python",
   "nbconvert_exporter": "python",
   "pygments_lexer": "ipython3",
   "version": "3.10.6"
  }
 },
 "nbformat": 4,
 "nbformat_minor": 5
}
