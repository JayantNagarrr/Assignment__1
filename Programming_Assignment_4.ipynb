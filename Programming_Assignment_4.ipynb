{
 "cells": [
  {
   "cell_type": "markdown",
   "id": "e850400b",
   "metadata": {},
   "source": [
    "1. Write a Python Program to Find the Factorial of a Number?"
   ]
  },
  {
   "cell_type": "code",
   "execution_count": 2,
   "id": "41c3b381",
   "metadata": {},
   "outputs": [
    {
     "name": "stdout",
     "output_type": "stream",
     "text": [
      "Enter a number to find the factorial:  7\n",
      "Factorial of 7 is 5040.\n"
     ]
    }
   ],
   "source": [
    "num = int(input(\"Enter a number to find the factorial:  \"))\n",
    "factorial = 1\n",
    "if num < 0:\n",
    "    print(\"Cannot calculate factorial of a negative number.\")\n",
    "elif num == 0:\n",
    "    print (\"Factorial of zero is 1.\")\n",
    "else:\n",
    "    for i in range(1,num+1):\n",
    "        factorial = factorial * i\n",
    "print (\"Factorial of {} is {}.\".format(num , factorial))"
   ]
  },
  {
   "cell_type": "markdown",
   "id": "232b4704",
   "metadata": {},
   "source": [
    "2. Write a Python Program to Display the multiplication Table?"
   ]
  },
  {
   "cell_type": "code",
   "execution_count": 4,
   "id": "217d06cb",
   "metadata": {},
   "outputs": [
    {
     "name": "stdout",
     "output_type": "stream",
     "text": [
      "Enter the number of which multiplication table is to be shown:  8\n",
      "\n",
      "Multiplication table for number 8 is \n",
      "\n",
      "8 X 1 = 8\n",
      "8 X 2 = 16\n",
      "8 X 3 = 24\n",
      "8 X 4 = 32\n",
      "8 X 5 = 40\n",
      "8 X 6 = 48\n",
      "8 X 7 = 56\n",
      "8 X 8 = 64\n",
      "8 X 9 = 72\n",
      "8 X 10 = 80\n"
     ]
    }
   ],
   "source": [
    "num = int(input(\"Enter the number of which multiplication table is to be shown:  \"))\n",
    "print (\"\\nMultiplication table for number {} is \\n\".format(num))\n",
    "for i in range(1,11):\n",
    "    print (\"{} X {} = {}\".format(num,i,i*num))"
   ]
  },
  {
   "cell_type": "markdown",
   "id": "181cc27d",
   "metadata": {},
   "source": [
    "3. Write a Python Program to Print the Fibonacci sequence?"
   ]
  },
  {
   "cell_type": "code",
   "execution_count": 5,
   "id": "40d9ac0a",
   "metadata": {},
   "outputs": [
    {
     "name": "stdout",
     "output_type": "stream",
     "text": [
      "Enter a number to find the fibonacci series :  10\n",
      "Fibonacci series upto  10 :\n",
      "0 1 1 2 3 5 8 13 21 34 55 "
     ]
    }
   ],
   "source": [
    "sequence = int(input(\"Enter a number to find the fibonacci series :  \"))\n",
    "count = 0\n",
    "a , b = 0,1\n",
    "\n",
    "if sequence <= 0:\n",
    "    print (\"Please enter a positive number.\")\n",
    "elif sequence == 1:\n",
    "    print (\"Fibonacci series upto \" , sequence , \":\")\n",
    "    print (a)\n",
    "else:\n",
    "    print(\"Fibonacci series upto \" , sequence , \":\")\n",
    "    while count <= sequence:\n",
    "        print(a , end = \" \")\n",
    "        c = a + b\n",
    "        a,b = b,c\n",
    "        count += 1"
   ]
  },
  {
   "cell_type": "markdown",
   "id": "07a8283d",
   "metadata": {},
   "source": [
    "4. Write a Python Program to Check Armstrong Number?"
   ]
  },
  {
   "cell_type": "code",
   "execution_count": 8,
   "id": "81a34227",
   "metadata": {},
   "outputs": [
    {
     "name": "stdout",
     "output_type": "stream",
     "text": [
      "Enter the number : 111\n",
      "Not an armstrong number\n"
     ]
    }
   ],
   "source": [
    "num = int(input(\"Enter the number : \"))\n",
    "\n",
    "power = len(str(num))\n",
    "\n",
    "temp = num\n",
    "sum = 0\n",
    "while temp > 0:\n",
    "    digit = temp % 10\n",
    "    sum = sum + digit ** power\n",
    "    temp = temp//10\n",
    "if num == sum :\n",
    "    print(\"Number is armstrong number\")\n",
    "else:\n",
    "    print(\"Not an armstrong number\")"
   ]
  },
  {
   "cell_type": "markdown",
   "id": "6d911755",
   "metadata": {},
   "source": [
    "5. Write a Python Program to Find Armstrong Number in an Interval?"
   ]
  },
  {
   "cell_type": "code",
   "execution_count": 9,
   "id": "ddb5a723",
   "metadata": {},
   "outputs": [
    {
     "name": "stdout",
     "output_type": "stream",
     "text": [
      "Lower limit : 1\n",
      "Upper limit : 2000\n",
      "1\n",
      "2\n",
      "3\n",
      "4\n",
      "5\n",
      "6\n",
      "7\n",
      "8\n",
      "9\n",
      "153\n",
      "370\n",
      "371\n",
      "407\n",
      "1634\n"
     ]
    }
   ],
   "source": [
    "low = int(input(\"Lower limit : \"))\n",
    "up = int(input(\"Upper limit : \"))\n",
    "\n",
    "\n",
    "for num in range(low,up+1):\n",
    "    power = len(str(num))\n",
    "    temp = num\n",
    "    sum = 0\n",
    "    while temp > 0:\n",
    "        digit = temp % 10\n",
    "        sum = sum + digit ** power\n",
    "        temp = temp//10\n",
    "    if num == sum :\n",
    "        print(num)"
   ]
  },
  {
   "cell_type": "markdown",
   "id": "5bb5d6aa",
   "metadata": {},
   "source": [
    "6. Write a Python Program to Find the Sum of Natural Numbers?"
   ]
  },
  {
   "cell_type": "code",
   "execution_count": 10,
   "id": "2df9ac40",
   "metadata": {},
   "outputs": [
    {
     "name": "stdout",
     "output_type": "stream",
     "text": [
      "enter the number : 22\n",
      "Sum of natural numbers upto 22 is 253\n"
     ]
    }
   ],
   "source": [
    "num = int(input(\"enter the number : \"))\n",
    "sum = 0\n",
    "for i in range(0,num+1):\n",
    "    sum+=i\n",
    "print(\"Sum of natural numbers upto {} is {}\".format(num,sum))"
   ]
  }
 ],
 "metadata": {
  "kernelspec": {
   "display_name": "Python 3 (ipykernel)",
   "language": "python",
   "name": "python3"
  },
  "language_info": {
   "codemirror_mode": {
    "name": "ipython",
    "version": 3
   },
   "file_extension": ".py",
   "mimetype": "text/x-python",
   "name": "python",
   "nbconvert_exporter": "python",
   "pygments_lexer": "ipython3",
   "version": "3.10.6"
  }
 },
 "nbformat": 4,
 "nbformat_minor": 5
}
