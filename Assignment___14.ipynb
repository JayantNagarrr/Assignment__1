{
 "cells": [
  {
   "cell_type": "markdown",
   "id": "48e5e7c9",
   "metadata": {},
   "source": [
    "1. What does RGBA stand for?\n",
    "\n",
    "Answer:  RGBA stands for red, green, blue and alpha (transparency) in the color."
   ]
  },
  {
   "cell_type": "markdown",
   "id": "3953824e",
   "metadata": {},
   "source": [
    "2. From the Pillow module, how do you get the RGBA value of any images?\n",
    "\n",
    "Answer: \n",
    "from PIL import ImageColor\n",
    "ImageColor.getcolor(\"red\" , \"RGBA\")\n",
    "ImageColor.getcolor(\"green\" , \"RGBA\")"
   ]
  },
  {
   "cell_type": "markdown",
   "id": "c3a3cd1f",
   "metadata": {},
   "source": [
    "3. What is a box tuple, and how does it work?\n",
    "\n",
    "Answer: A box tuple is a tuple value of four integers: \n",
    "The left edge x-coordinate\n",
    "The top edge y-coordinate\n",
    "The width\n",
    "The hight"
   ]
  },
  {
   "cell_type": "markdown",
   "id": "26ce40e6",
   "metadata": {},
   "source": [
    "4. Use your image and load in notebook then, How can you find out the width and height of an Image object?\n",
    "\n",
    "Answer: \n",
    "from PIL import image\n",
    "myimg = image.open(\"xyz.jpg\")\n",
    "w,h = myimg.size\n",
    "w,h"
   ]
  },
  {
   "cell_type": "markdown",
   "id": "bff90673",
   "metadata": {},
   "source": [
    "5. What method would you call to get Image object for a 100×100 image, excluding the lower-left quarter of it?\n",
    "\n",
    "Answer: imageobject.crop((0,50,50,50))"
   ]
  },
  {
   "cell_type": "markdown",
   "id": "23ac668d",
   "metadata": {},
   "source": [
    "6. After making changes to an Image object, how could you save it as an image file?\n",
    "\n",
    "Answer: By calling the imageObj.save(\"filename.png\") method of the image object."
   ]
  },
  {
   "cell_type": "markdown",
   "id": "2f004df9",
   "metadata": {},
   "source": [
    "7. What module contains Pillow’s shape-drawing code?\n",
    "\n",
    "Answer: The imageDraw module contains code to draw on image."
   ]
  },
  {
   "cell_type": "markdown",
   "id": "6a21255d",
   "metadata": {},
   "source": [
    "8. Image objects do not have drawing methods. What kind of object does? How do you get this kind 'of object?\n",
    "\n",
    "Answer: ImageDraw objects have shape-drawing methods such as point() , line() or rectangle(). They are returned by passing the image object to the imageDraw.Draw() function."
   ]
  }
 ],
 "metadata": {
  "kernelspec": {
   "display_name": "Python 3 (ipykernel)",
   "language": "python",
   "name": "python3"
  },
  "language_info": {
   "codemirror_mode": {
    "name": "ipython",
    "version": 3
   },
   "file_extension": ".py",
   "mimetype": "text/x-python",
   "name": "python",
   "nbconvert_exporter": "python",
   "pygments_lexer": "ipython3",
   "version": "3.10.6"
  }
 },
 "nbformat": 4,
 "nbformat_minor": 5
}
