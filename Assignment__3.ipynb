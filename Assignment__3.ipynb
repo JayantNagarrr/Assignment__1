{
 "cells": [
  {
   "cell_type": "markdown",
   "id": "ea757321",
   "metadata": {},
   "source": [
    "1. Why are functions advantageous to have in your programs?\n",
    "Functions are advantageous for code re-usability. Instead for writing complex code again and again we can define a function and call it as many times as we want."
   ]
  },
  {
   "cell_type": "markdown",
   "id": "4fafd22b",
   "metadata": {},
   "source": [
    "2. When does the code in a function run: when it's specified or when it's called?\n",
    "When it's called."
   ]
  },
  {
   "cell_type": "markdown",
   "id": "27e8855e",
   "metadata": {},
   "source": [
    "3. What statement creates a function?\n",
    "def test_name():"
   ]
  },
  {
   "cell_type": "markdown",
   "id": "1599aab8",
   "metadata": {},
   "source": [
    "4. What is the difference between a function and a function call?\n",
    "A function is a block of code that does a particular operation and returns a result. A function is mode with the help of a def function. \n",
    "Example: def func_name():\n",
    "A function call is the code used to pass control to a function.\n",
    "Generally after we have defined a function we call the function by: func_name(parameters):"
   ]
  },
  {
   "cell_type": "markdown",
   "id": "83d05da6",
   "metadata": {},
   "source": [
    "5. How many global scopes are there in a Python program? How many local scopes?\n",
    "For a python program there can be only one global scope.\n",
    "Each function in a python program has its own local scopein which all its variable and object names are defined."
   ]
  },
  {
   "cell_type": "markdown",
   "id": "795ed338",
   "metadata": {},
   "source": [
    "6. What happens to variables in a local scope when the function call returns?\n",
    "The local scopes are destroyed."
   ]
  },
  {
   "cell_type": "markdown",
   "id": "cee36abb",
   "metadata": {},
   "source": [
    "7. What is the concept of a return value? Is it possible to have a return value in an expression?\n",
    "The values that a function returns when it has completed is known as a return value.\n",
    "Yes it is possible to have a return value as an expression."
   ]
  },
  {
   "cell_type": "markdown",
   "id": "8f33952c",
   "metadata": {},
   "source": [
    "8. If a function does not have a return statement, what is the return value of a call to that function?\n",
    "If a function function doesn't specify a return value, it returns None."
   ]
  },
  {
   "cell_type": "markdown",
   "id": "8ec69428",
   "metadata": {},
   "source": [
    "9. How do you make a function variable refer to the global variable?\n",
    "With the help of a global statement."
   ]
  },
  {
   "cell_type": "markdown",
   "id": "6baf0dfc",
   "metadata": {},
   "source": [
    "10. What is the data type of None?\n",
    "None type"
   ]
  },
  {
   "cell_type": "markdown",
   "id": "22c6edab",
   "metadata": {},
   "source": [
    "11. What does the sentence import areallyourpetsnamederic do?\n",
    "The import statement imports a module named areallyourpetsnamederic."
   ]
  },
  {
   "cell_type": "markdown",
   "id": "d951e139",
   "metadata": {},
   "source": [
    "12. If you had a bacon() feature in a spam module, what would you call it after importing spam?\n",
    "spam.bacon()"
   ]
  },
  {
   "cell_type": "markdown",
   "id": "ea5dab93",
   "metadata": {},
   "source": [
    "13. What can you do to save a programme from crashing if it encounters an error?\n",
    "try:\n",
    "    print('This code be running') # your code here\n",
    "except Exception as e:\n",
    "    print('This code NOT be running because of', e)"
   ]
  },
  {
   "cell_type": "markdown",
   "id": "c08ff6cb",
   "metadata": {},
   "source": [
    "14. What is the purpose of the try clause? What is the purpose of the except clause?\n",
    "The code that could potentially cause an error goes in the try clause.\n",
    "The code that executes if an error happens goes in the except clause."
   ]
  }
 ],
 "metadata": {
  "kernelspec": {
   "display_name": "Python 3 (ipykernel)",
   "language": "python",
   "name": "python3"
  },
  "language_info": {
   "codemirror_mode": {
    "name": "ipython",
    "version": 3
   },
   "file_extension": ".py",
   "mimetype": "text/x-python",
   "name": "python",
   "nbconvert_exporter": "python",
   "pygments_lexer": "ipython3",
   "version": "3.10.6"
  }
 },
 "nbformat": 4,
 "nbformat_minor": 5
}
