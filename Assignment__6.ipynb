{
 "cells": [
  {
   "cell_type": "markdown",
   "id": "a0b05627",
   "metadata": {},
   "source": [
    "1. What are escape characters, and how do you use them?\n",
    "\n",
    "Answer: Escape characters represent characters in string values that would otherwise be difficult or impossible to type into code."
   ]
  },
  {
   "cell_type": "markdown",
   "id": "68e48cbc",
   "metadata": {},
   "source": [
    "2. What do the escape characters n and t stand for?\n",
    "\n",
    "Answer: \\n is a newline\n",
    "\\t is a tab."
   ]
  },
  {
   "cell_type": "markdown",
   "id": "b7a5e226",
   "metadata": {},
   "source": [
    "3. What is the way to include backslash characters in a string?\n",
    "\n",
    "Answer: The \\\\ escape character will represent a backslash character."
   ]
  },
  {
   "cell_type": "markdown",
   "id": "f27b2702",
   "metadata": {},
   "source": [
    "4. The string &quot;Howl&#39;s Moving Castle&quot; is a correct value. Why isn't the single quote character in the word Howl's not escaped a problem?\n",
    "\n",
    "Answer:  The single quote in Howl's is fine because you have used double quotes to mark the beginning and end of the string."
   ]
  },
  {
   "cell_type": "markdown",
   "id": "92b2a2a6",
   "metadata": {},
   "source": [
    "5. How do you write a string of newlines if you don't want to use the n character?\n",
    "\n",
    "Answer: Multiline strings allow you to use newlines in strings without the \\n escape character."
   ]
  },
  {
   "cell_type": "markdown",
   "id": "8d86f695",
   "metadata": {},
   "source": [
    "6. What are the values of the given expressions?\n",
    "'Hello, world!'[1]\n",
    "Answer: 'e'\n",
    "\n",
    "'Hello, world!'[0:5]\n",
    "Answer: 'Hello'\n",
    "\n",
    "'Hello, world!'[:5]\n",
    "Answer: 'Hello'\n",
    "\n",
    "'Hello, world!'[3:]\n",
    "Answer: 'lo world!'"
   ]
  },
  {
   "cell_type": "markdown",
   "id": "c48485d0",
   "metadata": {},
   "source": [
    "7. What are the values of the following expressions?\n",
    "'Hello'.upper()\n",
    "Answer: 'HELLO'\n",
    "\n",
    "'Hello'.upper().isupper()\n",
    "Answer: True\n",
    "\n",
    "'Hello'.upper().lower()\n",
    "Answer: 'hello'"
   ]
  },
  {
   "cell_type": "markdown",
   "id": "cbed489d",
   "metadata": {},
   "source": [
    "8. What are the values of the following expressions?\n",
    "'Remember, remember, the fifth of July.'.split()\n",
    "'-'.join('There can only one.'.split())\n",
    "\n",
    "Answer: ['Remember,' , 'remember,' , 'the' , 'fifth' , 'of' , 'November.']\n",
    "'There-can-be-only-one.'"
   ]
  },
  {
   "cell_type": "markdown",
   "id": "a3606153",
   "metadata": {},
   "source": [
    "9. What are the methods for right-justifying, left-justifying, and centering a string?\n",
    "\n",
    "Answer: The rjust() , ljust() , and center() string methods, respectively."
   ]
  },
  {
   "cell_type": "markdown",
   "id": "947b4399",
   "metadata": {},
   "source": [
    "10. What is the best way to remove whitespace characters from the start or end?\n",
    "\n",
    "Answer: The lstrip() and rstrip() methods remove whitespace from the left and right ends of a string."
   ]
  }
 ],
 "metadata": {
  "kernelspec": {
   "display_name": "Python 3 (ipykernel)",
   "language": "python",
   "name": "python3"
  },
  "language_info": {
   "codemirror_mode": {
    "name": "ipython",
    "version": 3
   },
   "file_extension": ".py",
   "mimetype": "text/x-python",
   "name": "python",
   "nbconvert_exporter": "python",
   "pygments_lexer": "ipython3",
   "version": "3.10.6"
  }
 },
 "nbformat": 4,
 "nbformat_minor": 5
}
