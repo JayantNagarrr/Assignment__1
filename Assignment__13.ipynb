{
 "cells": [
  {
   "cell_type": "markdown",
   "id": "59a7a982",
   "metadata": {},
   "source": [
    "1. What advantages do Excel spreadsheets have over CSV spreadsheets?\n",
    "\n",
    "\n",
    "Answer: Advantages of excel spreadsheets over csv are :\n",
    "(1) It is a binary file that holds information about all the worksheets in a workbook.\n",
    "(2) An excel not only stores data but can also do operations on the data.\n",
    "(3) Files saved in excel cannot be opened or edited by text editors.\n",
    "(4) Large files user is much easier in excel for the end user.\n",
    "(5) Apart from text , data can be stored in forms of charts and graphs.\n",
    "(6) Excel can connect to external data sources to fetch data. You can use custom add_in in excel to increase its functionality.\n",
    "(7) Excel allows reviews of data with detailed tracking and commenting feature."
   ]
  },
  {
   "cell_type": "markdown",
   "id": "45c9e5f4",
   "metadata": {},
   "source": [
    "2. What do you pass to csv.reader() and csv.writer() to create reader and writer objects?\n",
    "\n",
    "Answer: We pass a file object obtained from a call open()."
   ]
  },
  {
   "cell_type": "markdown",
   "id": "867313e6",
   "metadata": {},
   "source": [
    "3. What modes do File objects for reader and writer objects need to be opened in?\n",
    "\n",
    "Answer: Files objects need to be opened in read_binary ('rb') for readers objects and write-binary('wb') for writer objects."
   ]
  },
  {
   "cell_type": "markdown",
   "id": "a829c661",
   "metadata": {},
   "source": [
    "4. What method takes a list argument and writes it to a CSV file?\n",
    "\n",
    "Answer: The writerow() method."
   ]
  },
  {
   "cell_type": "markdown",
   "id": "ba3a764b",
   "metadata": {},
   "source": [
    "5. What do the keyword arguments delimiter and line terminator do?\n",
    "\n",
    "Answer: The delimiter argument changes the string used to seperate cells in a row.\n",
    "The line terminator argument changes the string used to seperate rows."
   ]
  },
  {
   "cell_type": "markdown",
   "id": "94144a17",
   "metadata": {},
   "source": [
    "6. What function takes a string of JSON data and returns a Python data structure?\n",
    "\n",
    "Answer: json.loads()"
   ]
  },
  {
   "cell_type": "markdown",
   "id": "a9fafffc",
   "metadata": {},
   "source": [
    "7. What function takes a Python data structure and returns a string of JSON data?\n",
    "\n",
    "Answer: json.dumps()"
   ]
  }
 ],
 "metadata": {
  "kernelspec": {
   "display_name": "Python 3 (ipykernel)",
   "language": "python",
   "name": "python3"
  },
  "language_info": {
   "codemirror_mode": {
    "name": "ipython",
    "version": 3
   },
   "file_extension": ".py",
   "mimetype": "text/x-python",
   "name": "python",
   "nbconvert_exporter": "python",
   "pygments_lexer": "ipython3",
   "version": "3.10.6"
  }
 },
 "nbformat": 4,
 "nbformat_minor": 5
}
