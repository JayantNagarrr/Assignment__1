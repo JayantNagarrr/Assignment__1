{
 "cells": [
  {
   "cell_type": "markdown",
   "id": "f85e188c",
   "metadata": {},
   "source": [
    "1. Write a Python program to convert kilometers to miles?"
   ]
  },
  {
   "cell_type": "code",
   "execution_count": 4,
   "id": "6c034886",
   "metadata": {},
   "outputs": [
    {
     "name": "stdout",
     "output_type": "stream",
     "text": [
      "Enter Kilometers: 12\n",
      "12.000 kilometers is equal to 7.452 miles\n"
     ]
    }
   ],
   "source": [
    "kilometers = float(input(\"Enter Kilometers: \"))\n",
    "conversionUnit = 0.621\n",
    "miles = kilometers * conversionUnit\n",
    "print(\"%0.3f kilometers is equal to %0.3f miles\"%(kilometers,miles))"
   ]
  },
  {
   "cell_type": "markdown",
   "id": "cd2a7435",
   "metadata": {},
   "source": [
    "2. Write a Python program to convert Celsius to Fahrenheit?"
   ]
  },
  {
   "cell_type": "code",
   "execution_count": 10,
   "id": "ee21020b",
   "metadata": {},
   "outputs": [
    {
     "name": "stdout",
     "output_type": "stream",
     "text": [
      "Celsius: 55\n",
      "55.00 celsius is 131.00 fahrenheit\n"
     ]
    }
   ],
   "source": [
    "cel = float(input(\"Celsius: \"))\n",
    "fah = 9/5 * cel + 32\n",
    "print(\"%0.2f celsius is %0.2f fahrenheit\"%(cel,fah))"
   ]
  },
  {
   "cell_type": "markdown",
   "id": "f9659e45",
   "metadata": {},
   "source": [
    "3. Write a Python program to display calendar?"
   ]
  },
  {
   "cell_type": "code",
   "execution_count": 13,
   "id": "a1842d62",
   "metadata": {},
   "outputs": [
    {
     "name": "stdout",
     "output_type": "stream",
     "text": [
      "Enter year: 2023\n",
      "Enter month: 2\n",
      "Calender: \n",
      "   February 2023\n",
      "Mo Tu We Th Fr Sa Su\n",
      "       1  2  3  4  5\n",
      " 6  7  8  9 10 11 12\n",
      "13 14 15 16 17 18 19\n",
      "20 21 22 23 24 25 26\n",
      "27 28\n",
      "\n"
     ]
    }
   ],
   "source": [
    "import calendar\n",
    "\n",
    "y = int(input(\"Enter year: \"))\n",
    "m = int(input(\"Enter month: \"))\n",
    "\n",
    "try:\n",
    "    print(\"Calender: \")\n",
    "    print(calendar.month(y,m))\n",
    "except:\n",
    "    print(\"Out Of Range\")"
   ]
  },
  {
   "cell_type": "markdown",
   "id": "fb9cf8b6",
   "metadata": {},
   "source": [
    "4. Write a Python program to solve quadratic equation?"
   ]
  },
  {
   "cell_type": "code",
   "execution_count": 16,
   "id": "146a3d5e",
   "metadata": {},
   "outputs": [
    {
     "name": "stdout",
     "output_type": "stream",
     "text": [
      "Enter the value of a : 2\n",
      "Enter the value of b : 5\n",
      "Enter the value of c : 8\n",
      "The roots are: \n",
      "(-1.25-1.5612494995995996j)\n",
      "(-1.25+1.5612494995995996j)\n"
     ]
    }
   ],
   "source": [
    "import cmath\n",
    "\n",
    "a = int(input(\"Enter the value of a : \"))\n",
    "b = int(input(\"Enter the value of b : \"))\n",
    "c = int(input(\"Enter the value of c : \"))\n",
    "\n",
    "dis = (b**2) - (4 * a*c)\n",
    "\n",
    "x1 = (-b-cmath.sqrt(dis))/(2*a)\n",
    "x2 = (-b+cmath.sqrt(dis))/(2*a)\n",
    "\n",
    "print(\"The roots are: \")\n",
    "print(x1)\n",
    "print(x2)"
   ]
  },
  {
   "cell_type": "markdown",
   "id": "18190931",
   "metadata": {},
   "source": [
    "5. Write a Python program to swap two variables without temp variable?"
   ]
  },
  {
   "cell_type": "code",
   "execution_count": 18,
   "id": "daf9e737",
   "metadata": {},
   "outputs": [
    {
     "name": "stdout",
     "output_type": "stream",
     "text": [
      "Num1: 7\n",
      "Num2: 9\n",
      "Before swaping x = 7 , y = 9\n",
      "After swaping x = 9 , y = 7\n"
     ]
    }
   ],
   "source": [
    "x = int(input(\"Num1: \"))\n",
    "y = int(input(\"Num2: \"))\n",
    "\n",
    "print(\"Before swaping x = {} , y = {}\".format(x,y))\n",
    "\n",
    "y,x = x,y\n",
    "print(\"After swaping x = {} , y = {}\".format(x,y))"
   ]
  }
 ],
 "metadata": {
  "kernelspec": {
   "display_name": "Python 3 (ipykernel)",
   "language": "python",
   "name": "python3"
  },
  "language_info": {
   "codemirror_mode": {
    "name": "ipython",
    "version": 3
   },
   "file_extension": ".py",
   "mimetype": "text/x-python",
   "name": "python",
   "nbconvert_exporter": "python",
   "pygments_lexer": "ipython3",
   "version": "3.10.6"
  }
 },
 "nbformat": 4,
 "nbformat_minor": 5
}
