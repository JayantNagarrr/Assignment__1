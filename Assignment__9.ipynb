{
 "cells": [
  {
   "cell_type": "markdown",
   "id": "6b801315",
   "metadata": {},
   "source": [
    "1. To what does a relative path refer?\n",
    "\n",
    "Answer: The relative path is the path of a file with respect to your current working directory."
   ]
  },
  {
   "cell_type": "markdown",
   "id": "3e7eab3c",
   "metadata": {},
   "source": [
    "2. What does an absolute path start with your operating system?\n",
    "\n",
    "Answer: An absolute path contain the full set of directories from the root of the file system up to your target file or directory.\n",
    "An absolute path starts with the root folder such as / or C:\\\\."
   ]
  },
  {
   "cell_type": "markdown",
   "id": "e9b91530",
   "metadata": {},
   "source": [
    "3. What do the functions os.getcwd() and os.chdir() do?\n",
    "\n",
    "Answer: Getcwd stands for \\\"get current working directory\\\". os.getcwd() returns the absolute path of the working directory where python is currently running as a string.\n",
    "\n",
    "chdir stands of \\\"change directory\\\". os.chdir() method in Python used to change the current working directory to specified path. It takes only a single argument as new directory path."
   ]
  },
  {
   "cell_type": "markdown",
   "id": "863fb585",
   "metadata": {},
   "source": [
    "4. What are the . and .. folders?\n",
    "\n",
    "Answer: The . is the current directory while .. signifies the parent directory."
   ]
  },
  {
   "cell_type": "markdown",
   "id": "89a10fc1",
   "metadata": {},
   "source": [
    "5. In C:\\bacon\\eggs\\spam.txt, which part is the dir name, and which part is the base name?\n",
    "\n",
    "Answer: Dir name is  C:\\\\bacon\\\\eggs . os.path.dirname() can be used to extract dir name from path.\n",
    "\n",
    "Base name is spam.txt. os.path.basename() can be used to extract base name from the path."
   ]
  },
  {
   "cell_type": "markdown",
   "id": "56d0205e",
   "metadata": {},
   "source": [
    "6. What are the three “mode” arguments that can be passed to the open() function?\n",
    "\n",
    "Answer: The mode arguments that can be passed to the oen() function are :\n",
    "\n",
    "(a). 'r' : open a file for reading.\n",
    "(b). \"w\" : open a file for writing. Creates a new file if it does not exist or truncate the fileif it exists.\n",
    "(c). 'a' : OPen for appending at the end of the file without truncating it. Creates a new file if it does not exist."
   ]
  },
  {
   "cell_type": "markdown",
   "id": "41f1e3d5",
   "metadata": {},
   "source": [
    "7. What happens if an existing file is opened in write mode?\n",
    "\n",
    "Answer: While a existing file is opend in write mode , content which was previously present will be overwritten by a new content passed."
   ]
  },
  {
   "cell_type": "markdown",
   "id": "33754c4a",
   "metadata": {},
   "source": [
    "8. How do you tell the difference between read() and readlines()?\n",
    "\n",
    "Answer: read() readsthe entire content of the file into a string. readlines() just reads file till the next line."
   ]
  },
  {
   "cell_type": "markdown",
   "id": "8b4954fc",
   "metadata": {},
   "source": [
    "9. What data structure does a shelf value resemble?\n",
    "\n",
    "Answer: A shelf value resembles a dictonary value. It has key =s and values , along with keys() and values() methods that works similar to the dictonary methods of the same names."
   ]
  }
 ],
 "metadata": {
  "kernelspec": {
   "display_name": "Python 3 (ipykernel)",
   "language": "python",
   "name": "python3"
  },
  "language_info": {
   "codemirror_mode": {
    "name": "ipython",
    "version": 3
   },
   "file_extension": ".py",
   "mimetype": "text/x-python",
   "name": "python",
   "nbconvert_exporter": "python",
   "pygments_lexer": "ipython3",
   "version": "3.10.6"
  }
 },
 "nbformat": 4,
 "nbformat_minor": 5
}
